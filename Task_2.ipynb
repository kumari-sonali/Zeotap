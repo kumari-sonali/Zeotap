{
 "cells": [
  {
   "cell_type": "code",
   "execution_count": 1,
   "id": "c29c8335-6f44-40f3-9458-72a6b465438c",
   "metadata": {},
   "outputs": [],
   "source": [
    "import numpy as np\n",
    "import pandas as pd\n",
    "import warnings\n",
    "warnings.filterwarnings(\"ignore\")"
   ]
  },
  {
   "cell_type": "code",
   "execution_count": 3,
   "id": "8a651399-757c-4fe5-ae3e-f500af477b82",
   "metadata": {},
   "outputs": [],
   "source": [
    "customers = pd.read_csv('Customers.csv')\n",
    "products = pd.read_csv('Products.csv')\n",
    "transactions = pd.read_csv('Transactions.csv')"
   ]
  },
  {
   "cell_type": "code",
   "execution_count": 5,
   "id": "70359faa-3866-4d51-beed-5ee036cce378",
   "metadata": {},
   "outputs": [],
   "source": [
    "transactions['Date'] = pd.to_datetime(transactions['TransactionDate']).dt.date"
   ]
  },
  {
   "cell_type": "code",
   "execution_count": 7,
   "id": "a694e6bf-05f8-42e4-879a-ed32213c79be",
   "metadata": {},
   "outputs": [],
   "source": [
    "sales = pd.merge(customers,transactions,on = 'CustomerID',how = 'inner')"
   ]
  },
  {
   "cell_type": "code",
   "execution_count": 17,
   "id": "bc22b553-79a4-49ee-bcb6-cbb4562146f3",
   "metadata": {},
   "outputs": [],
   "source": [
    "sales = pd.merge(sales, products, on=['ProductID', 'Price'], how='inner')"
   ]
  },
  {
   "cell_type": "markdown",
   "id": "d324fdde-886f-4c64-9f3d-a6cd7fc24ab8",
   "metadata": {},
   "source": [
    "Create a single row per customer with meaningful aggregated metrics that represent their behavior."
   ]
  },
  {
   "cell_type": "markdown",
   "id": "c9636053-3555-4338-9427-efa40913d88b",
   "metadata": {},
   "source": [
    "- Normalization ensures that all features have the same scale and contribute equally to similarity computation.\n",
    "- Features like TotalValue may have much larger scales than TransactionID or Price, skewing the similarity computation.\n"
   ]
  },
  {
   "cell_type": "code",
   "execution_count": 20,
   "id": "102489ed-66c6-4b8f-ae2c-ef4a25153d24",
   "metadata": {},
   "outputs": [],
   "source": [
    "from sklearn.preprocessing import StandardScaler\n",
    "from sklearn.metrics.pairwise import cosine_similarity\n",
    "import pandas as pd\n",
    "\n",
    "# Aggregate data for each customer\n",
    "customer_features = sales.groupby('CustomerID').agg({\n",
    "    'TotalValue': 'sum',\n",
    "    'TransactionID': 'count',\n",
    "    'Quantity': 'sum',\n",
    "    'Price': 'mean'\n",
    "}).reset_index()\n",
    "\n",
    "# Normalize the features\n",
    "scaler = StandardScaler()\n",
    "normalized_features = scaler.fit_transform(customer_features.iloc[:, 1:])  # Exclude CustomerID\n"
   ]
  },
  {
   "cell_type": "markdown",
   "id": "2ab2ff15-0921-42b1-b992-76e34466de4a",
   "metadata": {},
   "source": [
    "Compute pairwise cosine similarity for all customers.\n",
    "- Cosine Similarity:\n",
    "\n",
    "   - Measures the cosine of the angle between two vectors (customer feature vectors in this case).\n",
    "   - Outputs a similarity matrix where similarity_matrix[i][j] represents the similarity between Customer i and Customer j                           "
   ]
  },
  {
   "cell_type": "code",
   "execution_count": 13,
   "id": "1a4b7d08-c6b5-4569-a2e0-1978d5e1a28d",
   "metadata": {},
   "outputs": [],
   "source": [
    "# Compute cosine similarity\n",
    "similarity_matrix = cosine_similarity(normalized_features)\n",
    "\n",
    "# Convert to DataFrame for readability\n",
    "similarity_df = pd.DataFrame(similarity_matrix, index=customer_features['CustomerID'], columns=customer_features['CustomerID'])\n"
   ]
  },
  {
   "cell_type": "code",
   "execution_count": 15,
   "id": "2a0679d4-d70e-4d9d-9170-9268b1f3e5c4",
   "metadata": {},
   "outputs": [],
   "source": [
    "# Find top 3 similar customers for each customer\n",
    "top_lookalikes = {}\n",
    "\n",
    "for customer_id in similarity_df.index:\n",
    "    # Sort by similarity score, exclude the customer itself\n",
    "    similar_customers = similarity_df.loc[customer_id].sort_values(ascending=False).iloc[1:4]\n",
    "    top_lookalikes[customer_id] = list(zip(similar_customers.index, similar_customers.values))\n",
    "\n",
    "# Create a DataFrame for export\n",
    "lookalike_data = []\n",
    "for customer_id, lookalikes in top_lookalikes.items():\n",
    "    for similar_id, score in lookalikes:\n",
    "        lookalike_data.append({'CustomerID': customer_id, 'SimilarCustomerID': similar_id, 'SimilarityScore': score})\n",
    "\n",
    "lookalike_df = pd.DataFrame(lookalike_data)\n",
    "lookalike_df.to_csv('Lookalike.csv', index=False)\n"
   ]
  }
 ],
 "metadata": {
  "kernelspec": {
   "display_name": "Python 3 (ipykernel)",
   "language": "python",
   "name": "python3"
  },
  "language_info": {
   "codemirror_mode": {
    "name": "ipython",
    "version": 3
   },
   "file_extension": ".py",
   "mimetype": "text/x-python",
   "name": "python",
   "nbconvert_exporter": "python",
   "pygments_lexer": "ipython3",
   "version": "3.12.4"
  }
 },
 "nbformat": 4,
 "nbformat_minor": 5
}
